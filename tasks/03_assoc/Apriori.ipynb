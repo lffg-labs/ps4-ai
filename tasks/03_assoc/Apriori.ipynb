{
  "nbformat": 4,
  "nbformat_minor": 0,
  "metadata": {
    "colab": {
      "provenance": []
    },
    "kernelspec": {
      "name": "python3",
      "display_name": "Python 3"
    },
    "language_info": {
      "name": "python"
    }
  },
  "cells": [
    {
      "cell_type": "markdown",
      "source": [
        "**Regras de associação**\n",
        "\n",
        "**Algoritmo Apriori**\n",
        "\n",
        "**Veja: https://www.youtube.com/watch?v=0v6PiOpsJi8** "
      ],
      "metadata": {
        "id": "qm5lmIq9Xe-a"
      }
    },
    {
      "cell_type": "code",
      "metadata": {
        "id": "2bZM-_AsBVca",
        "colab": {
          "base_uri": "https://localhost:8080/"
        },
        "outputId": "22733a89-43fb-4ece-cc20-f21516a6c881"
      },
      "source": [
        "!pip install apyori"
      ],
      "execution_count": 36,
      "outputs": [
        {
          "output_type": "stream",
          "name": "stdout",
          "text": [
            "Looking in indexes: https://pypi.org/simple, https://us-python.pkg.dev/colab-wheels/public/simple/\n",
            "Requirement already satisfied: apyori in /usr/local/lib/python3.8/dist-packages (1.1.2)\n"
          ]
        }
      ]
    },
    {
      "cell_type": "code",
      "metadata": {
        "id": "m3d_ivF4Bcn5"
      },
      "source": [
        "import pandas as pd\n",
        "from apyori import apriori"
      ],
      "execution_count": 37,
      "outputs": []
    },
    {
      "cell_type": "code",
      "metadata": {
        "id": "fGx34zCzBkw1",
        "outputId": "d719f509-7f66-424f-b88d-d1dddfc37b41",
        "colab": {
          "base_uri": "https://localhost:8080/",
          "height": 449
        }
      },
      "source": [
        "#encoding = \"cp1252\", encoding='utf-8', encoding='latin1'etc\n",
        "base= pd.read_csv('/content/sample_data/pasta de dente python SIM.csv', ';', encoding='cp1252', header=None)\n",
        "#base= pd.read_csv('/content/sample_data/pasta de dente python SIM e NÃO.csv', ';', encoding='cp1252')\n",
        "#base= pd.read_csv('/content/sample_data/pasta de dente python SIM.csv', ';', encoding='cp1252',header=None)\n",
        "base"
      ],
      "execution_count": 38,
      "outputs": [
        {
          "output_type": "stream",
          "name": "stderr",
          "text": [
            "/usr/local/lib/python3.8/dist-packages/IPython/core/interactiveshell.py:3326: FutureWarning: In a future version of pandas all arguments of read_csv except for the argument 'filepath_or_buffer' will be keyword-only\n",
            "  exec(code_obj, self.user_global_ns, self.user_ns)\n"
          ]
        },
        {
          "output_type": "execute_result",
          "data": {
            "text/plain": [
              "         0       1               2        3        4               5       6  \\\n",
              "0   Banana  Batata  Pasta de dente  Shampoo      NaN             NaN  Escova   \n",
              "1      NaN     NaN             NaN  Shampoo  Ervilha             NaN     NaN   \n",
              "2      NaN  Batata  Pasta de dente      NaN      NaN  Protetor Solar  Escova   \n",
              "3      NaN  Batata             NaN      NaN  Ervilha             NaN     NaN   \n",
              "4   Banana  Batata             NaN  Shampoo  Ervilha             NaN  Escova   \n",
              "5      NaN     NaN  Pasta de dente  Shampoo      NaN  Protetor Solar  Escova   \n",
              "6   Banana  Batata             NaN  Shampoo      NaN  Protetor Solar  Escova   \n",
              "7   Banana     NaN  Pasta de dente  Shampoo      NaN             NaN     NaN   \n",
              "8   Banana  Batata             NaN  Shampoo  Ervilha             NaN  Escova   \n",
              "9   Banana     NaN             NaN  Shampoo      NaN             NaN     NaN   \n",
              "10  Banana  Batata             NaN  Shampoo  Ervilha             NaN  Escova   \n",
              "\n",
              "                  7  \n",
              "0   Creme para mãos  \n",
              "1               NaN  \n",
              "2   Creme para mãos  \n",
              "3               NaN  \n",
              "4               NaN  \n",
              "5   Creme para mãos  \n",
              "6               NaN  \n",
              "7               NaN  \n",
              "8   Creme para mãos  \n",
              "9               NaN  \n",
              "10              NaN  "
            ],
            "text/html": [
              "\n",
              "  <div id=\"df-2e055ef4-e9f5-44fc-97f5-a0d367eaae75\">\n",
              "    <div class=\"colab-df-container\">\n",
              "      <div>\n",
              "<style scoped>\n",
              "    .dataframe tbody tr th:only-of-type {\n",
              "        vertical-align: middle;\n",
              "    }\n",
              "\n",
              "    .dataframe tbody tr th {\n",
              "        vertical-align: top;\n",
              "    }\n",
              "\n",
              "    .dataframe thead th {\n",
              "        text-align: right;\n",
              "    }\n",
              "</style>\n",
              "<table border=\"1\" class=\"dataframe\">\n",
              "  <thead>\n",
              "    <tr style=\"text-align: right;\">\n",
              "      <th></th>\n",
              "      <th>0</th>\n",
              "      <th>1</th>\n",
              "      <th>2</th>\n",
              "      <th>3</th>\n",
              "      <th>4</th>\n",
              "      <th>5</th>\n",
              "      <th>6</th>\n",
              "      <th>7</th>\n",
              "    </tr>\n",
              "  </thead>\n",
              "  <tbody>\n",
              "    <tr>\n",
              "      <th>0</th>\n",
              "      <td>Banana</td>\n",
              "      <td>Batata</td>\n",
              "      <td>Pasta de dente</td>\n",
              "      <td>Shampoo</td>\n",
              "      <td>NaN</td>\n",
              "      <td>NaN</td>\n",
              "      <td>Escova</td>\n",
              "      <td>Creme para mãos</td>\n",
              "    </tr>\n",
              "    <tr>\n",
              "      <th>1</th>\n",
              "      <td>NaN</td>\n",
              "      <td>NaN</td>\n",
              "      <td>NaN</td>\n",
              "      <td>Shampoo</td>\n",
              "      <td>Ervilha</td>\n",
              "      <td>NaN</td>\n",
              "      <td>NaN</td>\n",
              "      <td>NaN</td>\n",
              "    </tr>\n",
              "    <tr>\n",
              "      <th>2</th>\n",
              "      <td>NaN</td>\n",
              "      <td>Batata</td>\n",
              "      <td>Pasta de dente</td>\n",
              "      <td>NaN</td>\n",
              "      <td>NaN</td>\n",
              "      <td>Protetor Solar</td>\n",
              "      <td>Escova</td>\n",
              "      <td>Creme para mãos</td>\n",
              "    </tr>\n",
              "    <tr>\n",
              "      <th>3</th>\n",
              "      <td>NaN</td>\n",
              "      <td>Batata</td>\n",
              "      <td>NaN</td>\n",
              "      <td>NaN</td>\n",
              "      <td>Ervilha</td>\n",
              "      <td>NaN</td>\n",
              "      <td>NaN</td>\n",
              "      <td>NaN</td>\n",
              "    </tr>\n",
              "    <tr>\n",
              "      <th>4</th>\n",
              "      <td>Banana</td>\n",
              "      <td>Batata</td>\n",
              "      <td>NaN</td>\n",
              "      <td>Shampoo</td>\n",
              "      <td>Ervilha</td>\n",
              "      <td>NaN</td>\n",
              "      <td>Escova</td>\n",
              "      <td>NaN</td>\n",
              "    </tr>\n",
              "    <tr>\n",
              "      <th>5</th>\n",
              "      <td>NaN</td>\n",
              "      <td>NaN</td>\n",
              "      <td>Pasta de dente</td>\n",
              "      <td>Shampoo</td>\n",
              "      <td>NaN</td>\n",
              "      <td>Protetor Solar</td>\n",
              "      <td>Escova</td>\n",
              "      <td>Creme para mãos</td>\n",
              "    </tr>\n",
              "    <tr>\n",
              "      <th>6</th>\n",
              "      <td>Banana</td>\n",
              "      <td>Batata</td>\n",
              "      <td>NaN</td>\n",
              "      <td>Shampoo</td>\n",
              "      <td>NaN</td>\n",
              "      <td>Protetor Solar</td>\n",
              "      <td>Escova</td>\n",
              "      <td>NaN</td>\n",
              "    </tr>\n",
              "    <tr>\n",
              "      <th>7</th>\n",
              "      <td>Banana</td>\n",
              "      <td>NaN</td>\n",
              "      <td>Pasta de dente</td>\n",
              "      <td>Shampoo</td>\n",
              "      <td>NaN</td>\n",
              "      <td>NaN</td>\n",
              "      <td>NaN</td>\n",
              "      <td>NaN</td>\n",
              "    </tr>\n",
              "    <tr>\n",
              "      <th>8</th>\n",
              "      <td>Banana</td>\n",
              "      <td>Batata</td>\n",
              "      <td>NaN</td>\n",
              "      <td>Shampoo</td>\n",
              "      <td>Ervilha</td>\n",
              "      <td>NaN</td>\n",
              "      <td>Escova</td>\n",
              "      <td>Creme para mãos</td>\n",
              "    </tr>\n",
              "    <tr>\n",
              "      <th>9</th>\n",
              "      <td>Banana</td>\n",
              "      <td>NaN</td>\n",
              "      <td>NaN</td>\n",
              "      <td>Shampoo</td>\n",
              "      <td>NaN</td>\n",
              "      <td>NaN</td>\n",
              "      <td>NaN</td>\n",
              "      <td>NaN</td>\n",
              "    </tr>\n",
              "    <tr>\n",
              "      <th>10</th>\n",
              "      <td>Banana</td>\n",
              "      <td>Batata</td>\n",
              "      <td>NaN</td>\n",
              "      <td>Shampoo</td>\n",
              "      <td>Ervilha</td>\n",
              "      <td>NaN</td>\n",
              "      <td>Escova</td>\n",
              "      <td>NaN</td>\n",
              "    </tr>\n",
              "  </tbody>\n",
              "</table>\n",
              "</div>\n",
              "      <button class=\"colab-df-convert\" onclick=\"convertToInteractive('df-2e055ef4-e9f5-44fc-97f5-a0d367eaae75')\"\n",
              "              title=\"Convert this dataframe to an interactive table.\"\n",
              "              style=\"display:none;\">\n",
              "        \n",
              "  <svg xmlns=\"http://www.w3.org/2000/svg\" height=\"24px\"viewBox=\"0 0 24 24\"\n",
              "       width=\"24px\">\n",
              "    <path d=\"M0 0h24v24H0V0z\" fill=\"none\"/>\n",
              "    <path d=\"M18.56 5.44l.94 2.06.94-2.06 2.06-.94-2.06-.94-.94-2.06-.94 2.06-2.06.94zm-11 1L8.5 8.5l.94-2.06 2.06-.94-2.06-.94L8.5 2.5l-.94 2.06-2.06.94zm10 10l.94 2.06.94-2.06 2.06-.94-2.06-.94-.94-2.06-.94 2.06-2.06.94z\"/><path d=\"M17.41 7.96l-1.37-1.37c-.4-.4-.92-.59-1.43-.59-.52 0-1.04.2-1.43.59L10.3 9.45l-7.72 7.72c-.78.78-.78 2.05 0 2.83L4 21.41c.39.39.9.59 1.41.59.51 0 1.02-.2 1.41-.59l7.78-7.78 2.81-2.81c.8-.78.8-2.07 0-2.86zM5.41 20L4 18.59l7.72-7.72 1.47 1.35L5.41 20z\"/>\n",
              "  </svg>\n",
              "      </button>\n",
              "      \n",
              "  <style>\n",
              "    .colab-df-container {\n",
              "      display:flex;\n",
              "      flex-wrap:wrap;\n",
              "      gap: 12px;\n",
              "    }\n",
              "\n",
              "    .colab-df-convert {\n",
              "      background-color: #E8F0FE;\n",
              "      border: none;\n",
              "      border-radius: 50%;\n",
              "      cursor: pointer;\n",
              "      display: none;\n",
              "      fill: #1967D2;\n",
              "      height: 32px;\n",
              "      padding: 0 0 0 0;\n",
              "      width: 32px;\n",
              "    }\n",
              "\n",
              "    .colab-df-convert:hover {\n",
              "      background-color: #E2EBFA;\n",
              "      box-shadow: 0px 1px 2px rgba(60, 64, 67, 0.3), 0px 1px 3px 1px rgba(60, 64, 67, 0.15);\n",
              "      fill: #174EA6;\n",
              "    }\n",
              "\n",
              "    [theme=dark] .colab-df-convert {\n",
              "      background-color: #3B4455;\n",
              "      fill: #D2E3FC;\n",
              "    }\n",
              "\n",
              "    [theme=dark] .colab-df-convert:hover {\n",
              "      background-color: #434B5C;\n",
              "      box-shadow: 0px 1px 3px 1px rgba(0, 0, 0, 0.15);\n",
              "      filter: drop-shadow(0px 1px 2px rgba(0, 0, 0, 0.3));\n",
              "      fill: #FFFFFF;\n",
              "    }\n",
              "  </style>\n",
              "\n",
              "      <script>\n",
              "        const buttonEl =\n",
              "          document.querySelector('#df-2e055ef4-e9f5-44fc-97f5-a0d367eaae75 button.colab-df-convert');\n",
              "        buttonEl.style.display =\n",
              "          google.colab.kernel.accessAllowed ? 'block' : 'none';\n",
              "\n",
              "        async function convertToInteractive(key) {\n",
              "          const element = document.querySelector('#df-2e055ef4-e9f5-44fc-97f5-a0d367eaae75');\n",
              "          const dataTable =\n",
              "            await google.colab.kernel.invokeFunction('convertToInteractive',\n",
              "                                                     [key], {});\n",
              "          if (!dataTable) return;\n",
              "\n",
              "          const docLinkHtml = 'Like what you see? Visit the ' +\n",
              "            '<a target=\"_blank\" href=https://colab.research.google.com/notebooks/data_table.ipynb>data table notebook</a>'\n",
              "            + ' to learn more about interactive tables.';\n",
              "          element.innerHTML = '';\n",
              "          dataTable['output_type'] = 'display_data';\n",
              "          await google.colab.output.renderOutput(dataTable, element);\n",
              "          const docLink = document.createElement('div');\n",
              "          docLink.innerHTML = docLinkHtml;\n",
              "          element.appendChild(docLink);\n",
              "        }\n",
              "      </script>\n",
              "    </div>\n",
              "  </div>\n",
              "  "
            ]
          },
          "metadata": {},
          "execution_count": 38
        }
      ]
    },
    {
      "cell_type": "code",
      "source": [
        "base.shape"
      ],
      "metadata": {
        "colab": {
          "base_uri": "https://localhost:8080/"
        },
        "id": "bqUKr_T8PXYn",
        "outputId": "68304296-8afa-4e2b-d8de-6f36dcdcf343"
      },
      "execution_count": 39,
      "outputs": [
        {
          "output_type": "execute_result",
          "data": {
            "text/plain": [
              "(11, 8)"
            ]
          },
          "metadata": {},
          "execution_count": 39
        }
      ]
    },
    {
      "cell_type": "markdown",
      "source": [
        "**O código a seguir altera a base de dados para colocar as ausências dos produtos**"
      ],
      "metadata": {
        "id": "qMSzc0sIOd2S"
      }
    },
    {
      "cell_type": "code",
      "source": [
        "#for column in base:\n",
        "#     base[column]=base[column].fillna('~' + column)"
      ],
      "metadata": {
        "id": "19-9OGl8N84K"
      },
      "execution_count": 40,
      "outputs": []
    },
    {
      "cell_type": "code",
      "source": [
        "#base"
      ],
      "metadata": {
        "id": "EzgU0z9lPb7e"
      },
      "execution_count": 41,
      "outputs": []
    },
    {
      "cell_type": "code",
      "metadata": {
        "id": "oIBsczbGCxWf"
      },
      "source": [
        "#base.shape"
      ],
      "execution_count": 42,
      "outputs": []
    },
    {
      "cell_type": "markdown",
      "source": [
        "**Como estaremos treinando um modelo a priori, que recebe entradas em formato de lista, precisamos transformar o dataframe em uma lista de transações.**"
      ],
      "metadata": {
        "id": "cQyNolxV37tx"
      }
    },
    {
      "cell_type": "code",
      "metadata": {
        "id": "ZF8i0EdWCMjY"
      },
      "source": [
        "transacoes = []\n",
        "for i in range(len(base)):\n",
        "  #print(i)\n",
        "  #print(base_mercado1.values[i, 0])\n",
        "  transacoes.append([str(base.values[i, j]) for j in range(base.shape[1])])"
      ],
      "execution_count": 43,
      "outputs": []
    },
    {
      "cell_type": "code",
      "metadata": {
        "colab": {
          "base_uri": "https://localhost:8080/"
        },
        "id": "XH2CNc6VC3e3",
        "outputId": "1f2140b6-70de-44e5-f984-a5d3618aa65b"
      },
      "source": [
        "transacoes"
      ],
      "execution_count": 44,
      "outputs": [
        {
          "output_type": "execute_result",
          "data": {
            "text/plain": [
              "[['Banana',\n",
              "  'Batata',\n",
              "  'Pasta de dente',\n",
              "  'Shampoo',\n",
              "  'nan',\n",
              "  'nan',\n",
              "  'Escova',\n",
              "  'Creme para mãos'],\n",
              " ['nan', 'nan', 'nan', 'Shampoo', 'Ervilha', 'nan', 'nan', 'nan'],\n",
              " ['nan',\n",
              "  'Batata',\n",
              "  'Pasta de dente',\n",
              "  'nan',\n",
              "  'nan',\n",
              "  'Protetor Solar',\n",
              "  'Escova',\n",
              "  'Creme para mãos'],\n",
              " ['nan', 'Batata', 'nan', 'nan', 'Ervilha', 'nan', 'nan', 'nan'],\n",
              " ['Banana', 'Batata', 'nan', 'Shampoo', 'Ervilha', 'nan', 'Escova', 'nan'],\n",
              " ['nan',\n",
              "  'nan',\n",
              "  'Pasta de dente',\n",
              "  'Shampoo',\n",
              "  'nan',\n",
              "  'Protetor Solar',\n",
              "  'Escova',\n",
              "  'Creme para mãos'],\n",
              " ['Banana',\n",
              "  'Batata',\n",
              "  'nan',\n",
              "  'Shampoo',\n",
              "  'nan',\n",
              "  'Protetor Solar',\n",
              "  'Escova',\n",
              "  'nan'],\n",
              " ['Banana', 'nan', 'Pasta de dente', 'Shampoo', 'nan', 'nan', 'nan', 'nan'],\n",
              " ['Banana',\n",
              "  'Batata',\n",
              "  'nan',\n",
              "  'Shampoo',\n",
              "  'Ervilha',\n",
              "  'nan',\n",
              "  'Escova',\n",
              "  'Creme para mãos'],\n",
              " ['Banana', 'nan', 'nan', 'Shampoo', 'nan', 'nan', 'nan', 'nan'],\n",
              " ['Banana', 'Batata', 'nan', 'Shampoo', 'Ervilha', 'nan', 'Escova', 'nan']]"
            ]
          },
          "metadata": {},
          "execution_count": 44
        }
      ]
    },
    {
      "cell_type": "code",
      "metadata": {
        "colab": {
          "base_uri": "https://localhost:8080/"
        },
        "id": "jF4Ec_ryDNfw",
        "outputId": "8edf4cb8-90f1-448a-fc4e-2a213ae0434d"
      },
      "source": [
        "type(transacoes)"
      ],
      "execution_count": 45,
      "outputs": [
        {
          "output_type": "execute_result",
          "data": {
            "text/plain": [
              "list"
            ]
          },
          "metadata": {},
          "execution_count": 45
        }
      ]
    },
    {
      "cell_type": "markdown",
      "source": [
        "**Vamos chamar executar o algoritmo apriori e armazenar as regras obtidas**"
      ],
      "metadata": {
        "id": "ggzA0uJg_3Ns"
      }
    },
    {
      "cell_type": "code",
      "source": [
        "regras = apriori(transacoes, min_support = 0.6, min_confidence = 0.7)\n",
        "saida = list(regras) \n",
        "print(len(saida))\n",
        "print(saida)"
      ],
      "metadata": {
        "colab": {
          "base_uri": "https://localhost:8080/"
        },
        "id": "DuX5YuabzqfQ",
        "outputId": "759da255-e827-43c6-828c-20255075316b"
      },
      "execution_count": 46,
      "outputs": [
        {
          "output_type": "stream",
          "name": "stdout",
          "text": [
            "8\n",
            "[RelationRecord(items=frozenset({'Shampoo'}), support=0.8181818181818182, ordered_statistics=[OrderedStatistic(items_base=frozenset(), items_add=frozenset({'Shampoo'}), confidence=0.8181818181818182, lift=1.0)]), RelationRecord(items=frozenset({'nan'}), support=1.0, ordered_statistics=[OrderedStatistic(items_base=frozenset(), items_add=frozenset({'nan'}), confidence=1.0, lift=1.0)]), RelationRecord(items=frozenset({'Shampoo', 'Banana'}), support=0.6363636363636364, ordered_statistics=[OrderedStatistic(items_base=frozenset({'Banana'}), items_add=frozenset({'Shampoo'}), confidence=1.0, lift=1.222222222222222), OrderedStatistic(items_base=frozenset({'Shampoo'}), items_add=frozenset({'Banana'}), confidence=0.7777777777777777, lift=1.222222222222222)]), RelationRecord(items=frozenset({'nan', 'Banana'}), support=0.6363636363636364, ordered_statistics=[OrderedStatistic(items_base=frozenset({'Banana'}), items_add=frozenset({'nan'}), confidence=1.0, lift=1.0)]), RelationRecord(items=frozenset({'nan', 'Batata'}), support=0.6363636363636364, ordered_statistics=[OrderedStatistic(items_base=frozenset({'Batata'}), items_add=frozenset({'nan'}), confidence=1.0, lift=1.0)]), RelationRecord(items=frozenset({'Escova', 'nan'}), support=0.6363636363636364, ordered_statistics=[OrderedStatistic(items_base=frozenset({'Escova'}), items_add=frozenset({'nan'}), confidence=1.0, lift=1.0)]), RelationRecord(items=frozenset({'Shampoo', 'nan'}), support=0.8181818181818182, ordered_statistics=[OrderedStatistic(items_base=frozenset(), items_add=frozenset({'Shampoo', 'nan'}), confidence=0.8181818181818182, lift=1.0), OrderedStatistic(items_base=frozenset({'Shampoo'}), items_add=frozenset({'nan'}), confidence=1.0, lift=1.0), OrderedStatistic(items_base=frozenset({'nan'}), items_add=frozenset({'Shampoo'}), confidence=0.8181818181818182, lift=1.0)]), RelationRecord(items=frozenset({'Shampoo', 'nan', 'Banana'}), support=0.6363636363636364, ordered_statistics=[OrderedStatistic(items_base=frozenset({'Banana'}), items_add=frozenset({'Shampoo', 'nan'}), confidence=1.0, lift=1.222222222222222), OrderedStatistic(items_base=frozenset({'Shampoo'}), items_add=frozenset({'nan', 'Banana'}), confidence=0.7777777777777777, lift=1.222222222222222), OrderedStatistic(items_base=frozenset({'Shampoo', 'Banana'}), items_add=frozenset({'nan'}), confidence=1.0, lift=1.0), OrderedStatistic(items_base=frozenset({'nan', 'Banana'}), items_add=frozenset({'Shampoo'}), confidence=1.0, lift=1.222222222222222), OrderedStatistic(items_base=frozenset({'Shampoo', 'nan'}), items_add=frozenset({'Banana'}), confidence=0.7777777777777777, lift=1.222222222222222)])]\n"
          ]
        }
      ]
    },
    {
      "cell_type": "code",
      "source": [
        "print(saida[0])"
      ],
      "metadata": {
        "colab": {
          "base_uri": "https://localhost:8080/"
        },
        "id": "l4vMQUJfHu0e",
        "outputId": "9506e5dd-0644-4baa-9bd9-946a815b2d62"
      },
      "execution_count": 47,
      "outputs": [
        {
          "output_type": "stream",
          "name": "stdout",
          "text": [
            "RelationRecord(items=frozenset({'Shampoo'}), support=0.8181818181818182, ordered_statistics=[OrderedStatistic(items_base=frozenset(), items_add=frozenset({'Shampoo'}), confidence=0.8181818181818182, lift=1.0)])\n"
          ]
        }
      ]
    },
    {
      "cell_type": "code",
      "source": [
        "print(saida[1])"
      ],
      "metadata": {
        "id": "M0hNno4uPcs9",
        "colab": {
          "base_uri": "https://localhost:8080/"
        },
        "outputId": "f8ae8a58-6414-48c0-bade-7a03b4f3f97c"
      },
      "execution_count": 48,
      "outputs": [
        {
          "output_type": "stream",
          "name": "stdout",
          "text": [
            "RelationRecord(items=frozenset({'nan'}), support=1.0, ordered_statistics=[OrderedStatistic(items_base=frozenset(), items_add=frozenset({'nan'}), confidence=1.0, lift=1.0)])\n"
          ]
        }
      ]
    },
    {
      "cell_type": "code",
      "source": [
        "print(saida[2])"
      ],
      "metadata": {
        "id": "0ZMoSVL_9aXP",
        "colab": {
          "base_uri": "https://localhost:8080/"
        },
        "outputId": "43a09394-2792-4963-ed70-e0f1d3af4a17"
      },
      "execution_count": 49,
      "outputs": [
        {
          "output_type": "stream",
          "name": "stdout",
          "text": [
            "RelationRecord(items=frozenset({'Shampoo', 'Banana'}), support=0.6363636363636364, ordered_statistics=[OrderedStatistic(items_base=frozenset({'Banana'}), items_add=frozenset({'Shampoo'}), confidence=1.0, lift=1.222222222222222), OrderedStatistic(items_base=frozenset({'Shampoo'}), items_add=frozenset({'Banana'}), confidence=0.7777777777777777, lift=1.222222222222222)])\n"
          ]
        }
      ]
    },
    {
      "cell_type": "markdown",
      "source": [
        "**Para facilitar a visualização, veja como transformar isso em um dataframe** \n",
        "\n",
        "Extraído de:\n",
        "\n",
        "https://www.section.io/engineering-education/apriori-algorithm-in-python/\n",
        "\n",
        "https://splunktool.com/understanding-apyoris-output"
      ],
      "metadata": {
        "id": "soknidg94a2y"
      }
    },
    {
      "cell_type": "code",
      "source": [
        "Antecedente = []\n",
        "Consequente = []\n",
        "suporte = []\n",
        "confianca = []\n",
        "lift = []\n",
        "\n",
        "for resultado in saida:\n",
        "  s = resultado[1]\n",
        "  result_rules = resultado[2]\n",
        "  for result_rule in result_rules:\n",
        "    a = list(result_rule[0])\n",
        "    b = list(result_rule[1])\n",
        "    c = result_rule[2]\n",
        "    l = result_rule[3]\n",
        "    if 'nan' in a or 'nan' in b: continue\n",
        "    if len(a) == 0 or len(b) == 0: continue\n",
        "    Antecedente.append(a)\n",
        "    Consequente.append(b)\n",
        "    suporte.append(s)\n",
        "    confianca.append(c)\n",
        "    lift.append(l)\n",
        "    RegrasFinais = pd.DataFrame({'Antecedente': Antecedente, 'Consequente': Consequente, 'suporte': suporte, 'confianca': confianca, 'lift': lift})"
      ],
      "metadata": {
        "id": "UWDno2uo4aL0"
      },
      "execution_count": 50,
      "outputs": []
    },
    {
      "cell_type": "code",
      "source": [
        "RegrasFinais"
      ],
      "metadata": {
        "id": "QW7wcZbe431-",
        "colab": {
          "base_uri": "https://localhost:8080/",
          "height": 112
        },
        "outputId": "9a4ebee0-91b5-4add-e562-d3cab7939970"
      },
      "execution_count": 51,
      "outputs": [
        {
          "output_type": "execute_result",
          "data": {
            "text/plain": [
              "  Antecedente Consequente   suporte  confianca      lift\n",
              "0    [Banana]   [Shampoo]  0.636364   1.000000  1.222222\n",
              "1   [Shampoo]    [Banana]  0.636364   0.777778  1.222222"
            ],
            "text/html": [
              "\n",
              "  <div id=\"df-d0cabcb4-f191-493c-933a-a12c51c44720\">\n",
              "    <div class=\"colab-df-container\">\n",
              "      <div>\n",
              "<style scoped>\n",
              "    .dataframe tbody tr th:only-of-type {\n",
              "        vertical-align: middle;\n",
              "    }\n",
              "\n",
              "    .dataframe tbody tr th {\n",
              "        vertical-align: top;\n",
              "    }\n",
              "\n",
              "    .dataframe thead th {\n",
              "        text-align: right;\n",
              "    }\n",
              "</style>\n",
              "<table border=\"1\" class=\"dataframe\">\n",
              "  <thead>\n",
              "    <tr style=\"text-align: right;\">\n",
              "      <th></th>\n",
              "      <th>Antecedente</th>\n",
              "      <th>Consequente</th>\n",
              "      <th>suporte</th>\n",
              "      <th>confianca</th>\n",
              "      <th>lift</th>\n",
              "    </tr>\n",
              "  </thead>\n",
              "  <tbody>\n",
              "    <tr>\n",
              "      <th>0</th>\n",
              "      <td>[Banana]</td>\n",
              "      <td>[Shampoo]</td>\n",
              "      <td>0.636364</td>\n",
              "      <td>1.000000</td>\n",
              "      <td>1.222222</td>\n",
              "    </tr>\n",
              "    <tr>\n",
              "      <th>1</th>\n",
              "      <td>[Shampoo]</td>\n",
              "      <td>[Banana]</td>\n",
              "      <td>0.636364</td>\n",
              "      <td>0.777778</td>\n",
              "      <td>1.222222</td>\n",
              "    </tr>\n",
              "  </tbody>\n",
              "</table>\n",
              "</div>\n",
              "      <button class=\"colab-df-convert\" onclick=\"convertToInteractive('df-d0cabcb4-f191-493c-933a-a12c51c44720')\"\n",
              "              title=\"Convert this dataframe to an interactive table.\"\n",
              "              style=\"display:none;\">\n",
              "        \n",
              "  <svg xmlns=\"http://www.w3.org/2000/svg\" height=\"24px\"viewBox=\"0 0 24 24\"\n",
              "       width=\"24px\">\n",
              "    <path d=\"M0 0h24v24H0V0z\" fill=\"none\"/>\n",
              "    <path d=\"M18.56 5.44l.94 2.06.94-2.06 2.06-.94-2.06-.94-.94-2.06-.94 2.06-2.06.94zm-11 1L8.5 8.5l.94-2.06 2.06-.94-2.06-.94L8.5 2.5l-.94 2.06-2.06.94zm10 10l.94 2.06.94-2.06 2.06-.94-2.06-.94-.94-2.06-.94 2.06-2.06.94z\"/><path d=\"M17.41 7.96l-1.37-1.37c-.4-.4-.92-.59-1.43-.59-.52 0-1.04.2-1.43.59L10.3 9.45l-7.72 7.72c-.78.78-.78 2.05 0 2.83L4 21.41c.39.39.9.59 1.41.59.51 0 1.02-.2 1.41-.59l7.78-7.78 2.81-2.81c.8-.78.8-2.07 0-2.86zM5.41 20L4 18.59l7.72-7.72 1.47 1.35L5.41 20z\"/>\n",
              "  </svg>\n",
              "      </button>\n",
              "      \n",
              "  <style>\n",
              "    .colab-df-container {\n",
              "      display:flex;\n",
              "      flex-wrap:wrap;\n",
              "      gap: 12px;\n",
              "    }\n",
              "\n",
              "    .colab-df-convert {\n",
              "      background-color: #E8F0FE;\n",
              "      border: none;\n",
              "      border-radius: 50%;\n",
              "      cursor: pointer;\n",
              "      display: none;\n",
              "      fill: #1967D2;\n",
              "      height: 32px;\n",
              "      padding: 0 0 0 0;\n",
              "      width: 32px;\n",
              "    }\n",
              "\n",
              "    .colab-df-convert:hover {\n",
              "      background-color: #E2EBFA;\n",
              "      box-shadow: 0px 1px 2px rgba(60, 64, 67, 0.3), 0px 1px 3px 1px rgba(60, 64, 67, 0.15);\n",
              "      fill: #174EA6;\n",
              "    }\n",
              "\n",
              "    [theme=dark] .colab-df-convert {\n",
              "      background-color: #3B4455;\n",
              "      fill: #D2E3FC;\n",
              "    }\n",
              "\n",
              "    [theme=dark] .colab-df-convert:hover {\n",
              "      background-color: #434B5C;\n",
              "      box-shadow: 0px 1px 3px 1px rgba(0, 0, 0, 0.15);\n",
              "      filter: drop-shadow(0px 1px 2px rgba(0, 0, 0, 0.3));\n",
              "      fill: #FFFFFF;\n",
              "    }\n",
              "  </style>\n",
              "\n",
              "      <script>\n",
              "        const buttonEl =\n",
              "          document.querySelector('#df-d0cabcb4-f191-493c-933a-a12c51c44720 button.colab-df-convert');\n",
              "        buttonEl.style.display =\n",
              "          google.colab.kernel.accessAllowed ? 'block' : 'none';\n",
              "\n",
              "        async function convertToInteractive(key) {\n",
              "          const element = document.querySelector('#df-d0cabcb4-f191-493c-933a-a12c51c44720');\n",
              "          const dataTable =\n",
              "            await google.colab.kernel.invokeFunction('convertToInteractive',\n",
              "                                                     [key], {});\n",
              "          if (!dataTable) return;\n",
              "\n",
              "          const docLinkHtml = 'Like what you see? Visit the ' +\n",
              "            '<a target=\"_blank\" href=https://colab.research.google.com/notebooks/data_table.ipynb>data table notebook</a>'\n",
              "            + ' to learn more about interactive tables.';\n",
              "          element.innerHTML = '';\n",
              "          dataTable['output_type'] = 'display_data';\n",
              "          await google.colab.output.renderOutput(dataTable, element);\n",
              "          const docLink = document.createElement('div');\n",
              "          docLink.innerHTML = docLinkHtml;\n",
              "          element.appendChild(docLink);\n",
              "        }\n",
              "      </script>\n",
              "    </div>\n",
              "  </div>\n",
              "  "
            ]
          },
          "metadata": {},
          "execution_count": 51
        }
      ]
    },
    {
      "cell_type": "markdown",
      "source": [
        "**Podemos ordenar estas regras por uma métrica desejada**"
      ],
      "metadata": {
        "id": "DJUXykHjhbJ0"
      }
    },
    {
      "cell_type": "code",
      "source": [
        "RegrasFinais.sort_values(by='lift', ascending =False)"
      ],
      "metadata": {
        "id": "A7X_YwVHhaxf",
        "colab": {
          "base_uri": "https://localhost:8080/",
          "height": 112
        },
        "outputId": "27c00b86-4295-4b16-b49f-f3bbf3d34c9e"
      },
      "execution_count": 52,
      "outputs": [
        {
          "output_type": "execute_result",
          "data": {
            "text/plain": [
              "  Antecedente Consequente   suporte  confianca      lift\n",
              "0    [Banana]   [Shampoo]  0.636364   1.000000  1.222222\n",
              "1   [Shampoo]    [Banana]  0.636364   0.777778  1.222222"
            ],
            "text/html": [
              "\n",
              "  <div id=\"df-70cfc7a2-7f5a-4fbf-b9d5-ab22afa329de\">\n",
              "    <div class=\"colab-df-container\">\n",
              "      <div>\n",
              "<style scoped>\n",
              "    .dataframe tbody tr th:only-of-type {\n",
              "        vertical-align: middle;\n",
              "    }\n",
              "\n",
              "    .dataframe tbody tr th {\n",
              "        vertical-align: top;\n",
              "    }\n",
              "\n",
              "    .dataframe thead th {\n",
              "        text-align: right;\n",
              "    }\n",
              "</style>\n",
              "<table border=\"1\" class=\"dataframe\">\n",
              "  <thead>\n",
              "    <tr style=\"text-align: right;\">\n",
              "      <th></th>\n",
              "      <th>Antecedente</th>\n",
              "      <th>Consequente</th>\n",
              "      <th>suporte</th>\n",
              "      <th>confianca</th>\n",
              "      <th>lift</th>\n",
              "    </tr>\n",
              "  </thead>\n",
              "  <tbody>\n",
              "    <tr>\n",
              "      <th>0</th>\n",
              "      <td>[Banana]</td>\n",
              "      <td>[Shampoo]</td>\n",
              "      <td>0.636364</td>\n",
              "      <td>1.000000</td>\n",
              "      <td>1.222222</td>\n",
              "    </tr>\n",
              "    <tr>\n",
              "      <th>1</th>\n",
              "      <td>[Shampoo]</td>\n",
              "      <td>[Banana]</td>\n",
              "      <td>0.636364</td>\n",
              "      <td>0.777778</td>\n",
              "      <td>1.222222</td>\n",
              "    </tr>\n",
              "  </tbody>\n",
              "</table>\n",
              "</div>\n",
              "      <button class=\"colab-df-convert\" onclick=\"convertToInteractive('df-70cfc7a2-7f5a-4fbf-b9d5-ab22afa329de')\"\n",
              "              title=\"Convert this dataframe to an interactive table.\"\n",
              "              style=\"display:none;\">\n",
              "        \n",
              "  <svg xmlns=\"http://www.w3.org/2000/svg\" height=\"24px\"viewBox=\"0 0 24 24\"\n",
              "       width=\"24px\">\n",
              "    <path d=\"M0 0h24v24H0V0z\" fill=\"none\"/>\n",
              "    <path d=\"M18.56 5.44l.94 2.06.94-2.06 2.06-.94-2.06-.94-.94-2.06-.94 2.06-2.06.94zm-11 1L8.5 8.5l.94-2.06 2.06-.94-2.06-.94L8.5 2.5l-.94 2.06-2.06.94zm10 10l.94 2.06.94-2.06 2.06-.94-2.06-.94-.94-2.06-.94 2.06-2.06.94z\"/><path d=\"M17.41 7.96l-1.37-1.37c-.4-.4-.92-.59-1.43-.59-.52 0-1.04.2-1.43.59L10.3 9.45l-7.72 7.72c-.78.78-.78 2.05 0 2.83L4 21.41c.39.39.9.59 1.41.59.51 0 1.02-.2 1.41-.59l7.78-7.78 2.81-2.81c.8-.78.8-2.07 0-2.86zM5.41 20L4 18.59l7.72-7.72 1.47 1.35L5.41 20z\"/>\n",
              "  </svg>\n",
              "      </button>\n",
              "      \n",
              "  <style>\n",
              "    .colab-df-container {\n",
              "      display:flex;\n",
              "      flex-wrap:wrap;\n",
              "      gap: 12px;\n",
              "    }\n",
              "\n",
              "    .colab-df-convert {\n",
              "      background-color: #E8F0FE;\n",
              "      border: none;\n",
              "      border-radius: 50%;\n",
              "      cursor: pointer;\n",
              "      display: none;\n",
              "      fill: #1967D2;\n",
              "      height: 32px;\n",
              "      padding: 0 0 0 0;\n",
              "      width: 32px;\n",
              "    }\n",
              "\n",
              "    .colab-df-convert:hover {\n",
              "      background-color: #E2EBFA;\n",
              "      box-shadow: 0px 1px 2px rgba(60, 64, 67, 0.3), 0px 1px 3px 1px rgba(60, 64, 67, 0.15);\n",
              "      fill: #174EA6;\n",
              "    }\n",
              "\n",
              "    [theme=dark] .colab-df-convert {\n",
              "      background-color: #3B4455;\n",
              "      fill: #D2E3FC;\n",
              "    }\n",
              "\n",
              "    [theme=dark] .colab-df-convert:hover {\n",
              "      background-color: #434B5C;\n",
              "      box-shadow: 0px 1px 3px 1px rgba(0, 0, 0, 0.15);\n",
              "      filter: drop-shadow(0px 1px 2px rgba(0, 0, 0, 0.3));\n",
              "      fill: #FFFFFF;\n",
              "    }\n",
              "  </style>\n",
              "\n",
              "      <script>\n",
              "        const buttonEl =\n",
              "          document.querySelector('#df-70cfc7a2-7f5a-4fbf-b9d5-ab22afa329de button.colab-df-convert');\n",
              "        buttonEl.style.display =\n",
              "          google.colab.kernel.accessAllowed ? 'block' : 'none';\n",
              "\n",
              "        async function convertToInteractive(key) {\n",
              "          const element = document.querySelector('#df-70cfc7a2-7f5a-4fbf-b9d5-ab22afa329de');\n",
              "          const dataTable =\n",
              "            await google.colab.kernel.invokeFunction('convertToInteractive',\n",
              "                                                     [key], {});\n",
              "          if (!dataTable) return;\n",
              "\n",
              "          const docLinkHtml = 'Like what you see? Visit the ' +\n",
              "            '<a target=\"_blank\" href=https://colab.research.google.com/notebooks/data_table.ipynb>data table notebook</a>'\n",
              "            + ' to learn more about interactive tables.';\n",
              "          element.innerHTML = '';\n",
              "          dataTable['output_type'] = 'display_data';\n",
              "          await google.colab.output.renderOutput(dataTable, element);\n",
              "          const docLink = document.createElement('div');\n",
              "          docLink.innerHTML = docLinkHtml;\n",
              "          element.appendChild(docLink);\n",
              "        }\n",
              "      </script>\n",
              "    </div>\n",
              "  </div>\n",
              "  "
            ]
          },
          "metadata": {},
          "execution_count": 52
        }
      ]
    }
  ]
}