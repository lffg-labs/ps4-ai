{
 "cells": [
  {
   "cell_type": "markdown",
   "metadata": {},
   "source": [
    "Baseado [neste artigo](https://www.pycodemates.com/2022/12/perceptron-algorithm-understanding-and-implementation-python.html)."
   ]
  },
  {
   "cell_type": "code",
   "execution_count": 2,
   "metadata": {},
   "outputs": [
    {
     "name": "stdout",
     "output_type": "stream",
     "text": [
      "Note: you may need to restart the kernel to use updated packages.\n"
     ]
    }
   ],
   "source": [
    "%pip install np &> /dev/null\n"
   ]
  },
  {
   "cell_type": "code",
   "execution_count": 34,
   "metadata": {},
   "outputs": [],
   "source": [
    "import numpy as np\n",
    "\n",
    "class Perceptron:\n",
    "    def __init__(self, learning_rate, epochs):\n",
    "        self.weights = None\n",
    "        self.bias = None\n",
    "        self.learning_rate = learning_rate\n",
    "        self.epochs = epochs\n",
    "\n",
    "    # step function\n",
    "    @staticmethod\n",
    "    def activation(z):\n",
    "        return np.heaviside(z, 0)\n",
    "\n",
    "    def predict(self, X):\n",
    "        z = np.dot(X, self.weights) + self.bias\n",
    "        return self.activation(z)\n",
    "\n",
    "    def manual_fit(self, weights, bias):\n",
    "        self.weights = weights\n",
    "        self.bias = bias\n",
    "\n",
    "    def fit(self, X, y):\n",
    "        n_features = X.shape[1]\n",
    "\n",
    "        # Initializing weights and bias\n",
    "        self.weights = np.zeros((n_features))\n",
    "        self.bias = 0\n",
    "\n",
    "        # Iterating until the number of epochs\n",
    "        for epoch in range(self.epochs):\n",
    "            # Traversing through the entire training set\n",
    "            for i in range(len(X)):\n",
    "                z = np.dot(X, self.weights) + self.bias # Finding the dot product and adding the bias\n",
    "                y_pred = self.activation(z) # Passing through an activation function\n",
    "\n",
    "                #Updating weights and bias\n",
    "                self.weights = self.weights + self.learning_rate * (y[i] - y_pred[i]) * X[i]\n",
    "                self.bias = self.bias + self.learning_rate * (y[i] - y_pred[i])\n",
    "\n",
    "        return self.weights, self.bias\n"
   ]
  },
  {
   "cell_type": "code",
   "execution_count": 19,
   "metadata": {},
   "outputs": [],
   "source": [
    "CASES = [\n",
    "    [0, 0],\n",
    "    [0, 1],\n",
    "    [1, 0],\n",
    "    [1, 1]\n",
    "]\n",
    "CASES_NP = np.array(CASES, np.int32)\n"
   ]
  },
  {
   "cell_type": "markdown",
   "metadata": {},
   "source": [
    "## Testando AND"
   ]
  },
  {
   "cell_type": "code",
   "execution_count": 23,
   "metadata": {},
   "outputs": [
    {
     "name": "stdout",
     "output_type": "stream",
     "text": [
      "[0, 0] 0.0\n",
      "[0, 1] 0.0\n",
      "[1, 0] 0.0\n",
      "[1, 1] 1.0\n"
     ]
    }
   ],
   "source": [
    "p_and = Perceptron(0.01, 1000)\n",
    "p_and.fit(\n",
    "    CASES_NP,\n",
    "    np.array([0, 0, 0, 1], np.int32)\n",
    ")\n",
    "for case in CASES:\n",
    "    print(case, p_and.predict(np.array(case, np.int32)))\n"
   ]
  },
  {
   "cell_type": "markdown",
   "metadata": {},
   "source": [
    "## Testando OR"
   ]
  },
  {
   "cell_type": "code",
   "execution_count": 25,
   "metadata": {},
   "outputs": [
    {
     "name": "stdout",
     "output_type": "stream",
     "text": [
      "[0, 0] 0.0\n",
      "[0, 1] 1.0\n",
      "[1, 0] 1.0\n",
      "[1, 1] 1.0\n"
     ]
    }
   ],
   "source": [
    "p_and = Perceptron(0.01, 1000)\n",
    "p_and.fit(\n",
    "    CASES_NP,\n",
    "    np.array([0, 1, 1, 1], np.int32)\n",
    ")\n",
    "for case in CASES:\n",
    "    print(case, p_and.predict(np.array(case, np.int32)))\n"
   ]
  },
  {
   "cell_type": "markdown",
   "metadata": {},
   "source": [
    "## Testando XOR (incorreto)"
   ]
  },
  {
   "cell_type": "code",
   "execution_count": 28,
   "metadata": {},
   "outputs": [
    {
     "name": "stdout",
     "output_type": "stream",
     "text": [
      "[0, 0] 0.0 expected:  True\n",
      "[0, 1] 0.0 expected:  False\n",
      "[1, 0] 1.0 expected:  False\n",
      "[1, 1] 1.0 expected:  True\n"
     ]
    }
   ],
   "source": [
    "p_and = Perceptron(0.01, 1000)\n",
    "p_and.fit(\n",
    "    CASES_NP,\n",
    "    np.array([1, 0, 0, 1], np.int32)\n",
    ")\n",
    "for case in CASES:\n",
    "    print(case, p_and.predict(np.array(case, np.int32)), \"expected: \", case[0] == case[1])"
   ]
  },
  {
   "cell_type": "markdown",
   "metadata": {},
   "source": [
    "## Fit manual\n",
    "\n",
    "Para os valores: `np.array([0.5, 0.4, -0.3], np.float64)`."
   ]
  },
  {
   "cell_type": "code",
   "execution_count": 35,
   "metadata": {},
   "outputs": [
    {
     "name": "stdout",
     "output_type": "stream",
     "text": [
      "[0, 0] 0.0\n",
      "[0, 1] 0.0\n",
      "[1, 0] 1.0\n",
      "[1, 1] 1.0\n"
     ]
    }
   ],
   "source": [
    "p_manual = Perceptron(0, 0)\n",
    "p_manual.manual_fit(\n",
    "    weights=np.array([0.5, 0.4], np.float64),\n",
    "    bias=-0.3\n",
    ")\n",
    "for case in CASES:\n",
    "    print(case, p_and.predict(np.array(case, np.int32)))"
   ]
  },
  {
   "cell_type": "markdown",
   "metadata": {},
   "source": []
  }
 ],
 "metadata": {
  "kernelspec": {
   "display_name": ".venv",
   "language": "python",
   "name": "python3"
  },
  "language_info": {
   "codemirror_mode": {
    "name": "ipython",
    "version": 3
   },
   "file_extension": ".py",
   "mimetype": "text/x-python",
   "name": "python",
   "nbconvert_exporter": "python",
   "pygments_lexer": "ipython3",
   "version": "3.11.5"
  }
 },
 "nbformat": 4,
 "nbformat_minor": 2
}
