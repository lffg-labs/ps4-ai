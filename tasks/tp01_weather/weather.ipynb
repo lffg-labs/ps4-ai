{
 "cells": [
  {
   "cell_type": "code",
   "execution_count": 172,
   "metadata": {},
   "outputs": [
    {
     "name": "stdout",
     "output_type": "stream",
     "text": [
      "Note: you may need to restart the kernel to use updated packages.\n"
     ]
    }
   ],
   "source": [
    "%pip install -r requirements.txt &> /dev/null"
   ]
  },
  {
   "cell_type": "code",
   "execution_count": 173,
   "metadata": {},
   "outputs": [],
   "source": [
    "RANDOM_STATE = 27"
   ]
  },
  {
   "cell_type": "code",
   "execution_count": 174,
   "metadata": {},
   "outputs": [],
   "source": [
    "import pandas as pd\n",
    "import numpy as np\n",
    "import seaborn as sns"
   ]
  },
  {
   "cell_type": "code",
   "execution_count": 175,
   "metadata": {},
   "outputs": [
    {
     "data": {
      "text/html": [
       "<div>\n",
       "<style scoped>\n",
       "    .dataframe tbody tr th:only-of-type {\n",
       "        vertical-align: middle;\n",
       "    }\n",
       "\n",
       "    .dataframe tbody tr th {\n",
       "        vertical-align: top;\n",
       "    }\n",
       "\n",
       "    .dataframe thead th {\n",
       "        text-align: right;\n",
       "    }\n",
       "</style>\n",
       "<table border=\"1\" class=\"dataframe\">\n",
       "  <thead>\n",
       "    <tr style=\"text-align: right;\">\n",
       "      <th></th>\n",
       "      <th>date</th>\n",
       "      <th>precipitation</th>\n",
       "      <th>temp_max</th>\n",
       "      <th>temp_min</th>\n",
       "      <th>wind</th>\n",
       "      <th>weather</th>\n",
       "    </tr>\n",
       "  </thead>\n",
       "  <tbody>\n",
       "    <tr>\n",
       "      <th>0</th>\n",
       "      <td>2012-01-01</td>\n",
       "      <td>0.0</td>\n",
       "      <td>12.8</td>\n",
       "      <td>5.0</td>\n",
       "      <td>4.7</td>\n",
       "      <td>drizzle</td>\n",
       "    </tr>\n",
       "    <tr>\n",
       "      <th>1</th>\n",
       "      <td>2012-01-02</td>\n",
       "      <td>10.9</td>\n",
       "      <td>10.6</td>\n",
       "      <td>2.8</td>\n",
       "      <td>4.5</td>\n",
       "      <td>rain</td>\n",
       "    </tr>\n",
       "    <tr>\n",
       "      <th>2</th>\n",
       "      <td>2012-01-03</td>\n",
       "      <td>0.8</td>\n",
       "      <td>11.7</td>\n",
       "      <td>7.2</td>\n",
       "      <td>2.3</td>\n",
       "      <td>rain</td>\n",
       "    </tr>\n",
       "    <tr>\n",
       "      <th>3</th>\n",
       "      <td>2012-01-04</td>\n",
       "      <td>20.3</td>\n",
       "      <td>12.2</td>\n",
       "      <td>5.6</td>\n",
       "      <td>4.7</td>\n",
       "      <td>rain</td>\n",
       "    </tr>\n",
       "    <tr>\n",
       "      <th>4</th>\n",
       "      <td>2012-01-05</td>\n",
       "      <td>1.3</td>\n",
       "      <td>8.9</td>\n",
       "      <td>2.8</td>\n",
       "      <td>6.1</td>\n",
       "      <td>rain</td>\n",
       "    </tr>\n",
       "    <tr>\n",
       "      <th>5</th>\n",
       "      <td>2012-01-06</td>\n",
       "      <td>2.5</td>\n",
       "      <td>4.4</td>\n",
       "      <td>2.2</td>\n",
       "      <td>2.2</td>\n",
       "      <td>rain</td>\n",
       "    </tr>\n",
       "    <tr>\n",
       "      <th>6</th>\n",
       "      <td>2012-01-07</td>\n",
       "      <td>0.0</td>\n",
       "      <td>7.2</td>\n",
       "      <td>2.8</td>\n",
       "      <td>2.3</td>\n",
       "      <td>rain</td>\n",
       "    </tr>\n",
       "    <tr>\n",
       "      <th>7</th>\n",
       "      <td>2012-01-08</td>\n",
       "      <td>0.0</td>\n",
       "      <td>10.0</td>\n",
       "      <td>2.8</td>\n",
       "      <td>2.0</td>\n",
       "      <td>sun</td>\n",
       "    </tr>\n",
       "    <tr>\n",
       "      <th>8</th>\n",
       "      <td>2012-01-09</td>\n",
       "      <td>4.3</td>\n",
       "      <td>9.4</td>\n",
       "      <td>5.0</td>\n",
       "      <td>3.4</td>\n",
       "      <td>rain</td>\n",
       "    </tr>\n",
       "    <tr>\n",
       "      <th>9</th>\n",
       "      <td>2012-01-10</td>\n",
       "      <td>1.0</td>\n",
       "      <td>6.1</td>\n",
       "      <td>0.6</td>\n",
       "      <td>3.4</td>\n",
       "      <td>rain</td>\n",
       "    </tr>\n",
       "  </tbody>\n",
       "</table>\n",
       "</div>"
      ],
      "text/plain": [
       "         date  precipitation  temp_max  temp_min  wind  weather\n",
       "0  2012-01-01            0.0      12.8       5.0   4.7  drizzle\n",
       "1  2012-01-02           10.9      10.6       2.8   4.5     rain\n",
       "2  2012-01-03            0.8      11.7       7.2   2.3     rain\n",
       "3  2012-01-04           20.3      12.2       5.6   4.7     rain\n",
       "4  2012-01-05            1.3       8.9       2.8   6.1     rain\n",
       "5  2012-01-06            2.5       4.4       2.2   2.2     rain\n",
       "6  2012-01-07            0.0       7.2       2.8   2.3     rain\n",
       "7  2012-01-08            0.0      10.0       2.8   2.0      sun\n",
       "8  2012-01-09            4.3       9.4       5.0   3.4     rain\n",
       "9  2012-01-10            1.0       6.1       0.6   3.4     rain"
      ]
     },
     "execution_count": 175,
     "metadata": {},
     "output_type": "execute_result"
    }
   ],
   "source": [
    "df = pd.read_csv(\"./data/weather.csv\")\n",
    "df.iloc[:10, :]"
   ]
  },
  {
   "cell_type": "code",
   "execution_count": 176,
   "metadata": {},
   "outputs": [],
   "source": [
    "from datetime import date\n",
    "\n",
    "def get_month(date_str):\n",
    "    parts = [int(c) for c in date_str.split(\"-\")]\n",
    "    return date(*parts).month\n",
    "\n",
    "month_col = df[\"date\"].apply(get_month)\n",
    "df.insert(0, \"month\", month_col)\n",
    "\n",
    "df.drop(\"date\", axis=1, inplace=True)"
   ]
  },
  {
   "cell_type": "code",
   "execution_count": 177,
   "metadata": {},
   "outputs": [
    {
     "data": {
      "text/html": [
       "<div>\n",
       "<style scoped>\n",
       "    .dataframe tbody tr th:only-of-type {\n",
       "        vertical-align: middle;\n",
       "    }\n",
       "\n",
       "    .dataframe tbody tr th {\n",
       "        vertical-align: top;\n",
       "    }\n",
       "\n",
       "    .dataframe thead th {\n",
       "        text-align: right;\n",
       "    }\n",
       "</style>\n",
       "<table border=\"1\" class=\"dataframe\">\n",
       "  <thead>\n",
       "    <tr style=\"text-align: right;\">\n",
       "      <th></th>\n",
       "      <th>month</th>\n",
       "      <th>precipitation</th>\n",
       "      <th>temp_max</th>\n",
       "      <th>temp_min</th>\n",
       "      <th>wind</th>\n",
       "      <th>weather</th>\n",
       "    </tr>\n",
       "  </thead>\n",
       "  <tbody>\n",
       "    <tr>\n",
       "      <th>0</th>\n",
       "      <td>1</td>\n",
       "      <td>0.0</td>\n",
       "      <td>12.8</td>\n",
       "      <td>5.0</td>\n",
       "      <td>4.7</td>\n",
       "      <td>drizzle</td>\n",
       "    </tr>\n",
       "    <tr>\n",
       "      <th>1</th>\n",
       "      <td>1</td>\n",
       "      <td>10.9</td>\n",
       "      <td>10.6</td>\n",
       "      <td>2.8</td>\n",
       "      <td>4.5</td>\n",
       "      <td>rain</td>\n",
       "    </tr>\n",
       "    <tr>\n",
       "      <th>2</th>\n",
       "      <td>1</td>\n",
       "      <td>0.8</td>\n",
       "      <td>11.7</td>\n",
       "      <td>7.2</td>\n",
       "      <td>2.3</td>\n",
       "      <td>rain</td>\n",
       "    </tr>\n",
       "    <tr>\n",
       "      <th>3</th>\n",
       "      <td>1</td>\n",
       "      <td>20.3</td>\n",
       "      <td>12.2</td>\n",
       "      <td>5.6</td>\n",
       "      <td>4.7</td>\n",
       "      <td>rain</td>\n",
       "    </tr>\n",
       "    <tr>\n",
       "      <th>4</th>\n",
       "      <td>1</td>\n",
       "      <td>1.3</td>\n",
       "      <td>8.9</td>\n",
       "      <td>2.8</td>\n",
       "      <td>6.1</td>\n",
       "      <td>rain</td>\n",
       "    </tr>\n",
       "    <tr>\n",
       "      <th>5</th>\n",
       "      <td>1</td>\n",
       "      <td>2.5</td>\n",
       "      <td>4.4</td>\n",
       "      <td>2.2</td>\n",
       "      <td>2.2</td>\n",
       "      <td>rain</td>\n",
       "    </tr>\n",
       "    <tr>\n",
       "      <th>6</th>\n",
       "      <td>1</td>\n",
       "      <td>0.0</td>\n",
       "      <td>7.2</td>\n",
       "      <td>2.8</td>\n",
       "      <td>2.3</td>\n",
       "      <td>rain</td>\n",
       "    </tr>\n",
       "    <tr>\n",
       "      <th>7</th>\n",
       "      <td>1</td>\n",
       "      <td>0.0</td>\n",
       "      <td>10.0</td>\n",
       "      <td>2.8</td>\n",
       "      <td>2.0</td>\n",
       "      <td>sun</td>\n",
       "    </tr>\n",
       "    <tr>\n",
       "      <th>8</th>\n",
       "      <td>1</td>\n",
       "      <td>4.3</td>\n",
       "      <td>9.4</td>\n",
       "      <td>5.0</td>\n",
       "      <td>3.4</td>\n",
       "      <td>rain</td>\n",
       "    </tr>\n",
       "    <tr>\n",
       "      <th>9</th>\n",
       "      <td>1</td>\n",
       "      <td>1.0</td>\n",
       "      <td>6.1</td>\n",
       "      <td>0.6</td>\n",
       "      <td>3.4</td>\n",
       "      <td>rain</td>\n",
       "    </tr>\n",
       "  </tbody>\n",
       "</table>\n",
       "</div>"
      ],
      "text/plain": [
       "   month  precipitation  temp_max  temp_min  wind  weather\n",
       "0      1            0.0      12.8       5.0   4.7  drizzle\n",
       "1      1           10.9      10.6       2.8   4.5     rain\n",
       "2      1            0.8      11.7       7.2   2.3     rain\n",
       "3      1           20.3      12.2       5.6   4.7     rain\n",
       "4      1            1.3       8.9       2.8   6.1     rain\n",
       "5      1            2.5       4.4       2.2   2.2     rain\n",
       "6      1            0.0       7.2       2.8   2.3     rain\n",
       "7      1            0.0      10.0       2.8   2.0      sun\n",
       "8      1            4.3       9.4       5.0   3.4     rain\n",
       "9      1            1.0       6.1       0.6   3.4     rain"
      ]
     },
     "execution_count": 177,
     "metadata": {},
     "output_type": "execute_result"
    }
   ],
   "source": [
    "df.head(10)"
   ]
  },
  {
   "cell_type": "code",
   "execution_count": 178,
   "metadata": {},
   "outputs": [
    {
     "data": {
      "text/html": [
       "<div>\n",
       "<style scoped>\n",
       "    .dataframe tbody tr th:only-of-type {\n",
       "        vertical-align: middle;\n",
       "    }\n",
       "\n",
       "    .dataframe tbody tr th {\n",
       "        vertical-align: top;\n",
       "    }\n",
       "\n",
       "    .dataframe thead th {\n",
       "        text-align: right;\n",
       "    }\n",
       "</style>\n",
       "<table border=\"1\" class=\"dataframe\">\n",
       "  <thead>\n",
       "    <tr style=\"text-align: right;\">\n",
       "      <th></th>\n",
       "      <th>month</th>\n",
       "      <th>precipitation</th>\n",
       "      <th>temp_max</th>\n",
       "      <th>temp_min</th>\n",
       "      <th>wind</th>\n",
       "    </tr>\n",
       "  </thead>\n",
       "  <tbody>\n",
       "    <tr>\n",
       "      <th>0</th>\n",
       "      <td>1</td>\n",
       "      <td>0.0</td>\n",
       "      <td>12.8</td>\n",
       "      <td>5.0</td>\n",
       "      <td>4.7</td>\n",
       "    </tr>\n",
       "    <tr>\n",
       "      <th>1</th>\n",
       "      <td>1</td>\n",
       "      <td>10.9</td>\n",
       "      <td>10.6</td>\n",
       "      <td>2.8</td>\n",
       "      <td>4.5</td>\n",
       "    </tr>\n",
       "    <tr>\n",
       "      <th>2</th>\n",
       "      <td>1</td>\n",
       "      <td>0.8</td>\n",
       "      <td>11.7</td>\n",
       "      <td>7.2</td>\n",
       "      <td>2.3</td>\n",
       "    </tr>\n",
       "    <tr>\n",
       "      <th>3</th>\n",
       "      <td>1</td>\n",
       "      <td>20.3</td>\n",
       "      <td>12.2</td>\n",
       "      <td>5.6</td>\n",
       "      <td>4.7</td>\n",
       "    </tr>\n",
       "    <tr>\n",
       "      <th>4</th>\n",
       "      <td>1</td>\n",
       "      <td>1.3</td>\n",
       "      <td>8.9</td>\n",
       "      <td>2.8</td>\n",
       "      <td>6.1</td>\n",
       "    </tr>\n",
       "    <tr>\n",
       "      <th>...</th>\n",
       "      <td>...</td>\n",
       "      <td>...</td>\n",
       "      <td>...</td>\n",
       "      <td>...</td>\n",
       "      <td>...</td>\n",
       "    </tr>\n",
       "    <tr>\n",
       "      <th>1456</th>\n",
       "      <td>12</td>\n",
       "      <td>8.6</td>\n",
       "      <td>4.4</td>\n",
       "      <td>1.7</td>\n",
       "      <td>2.9</td>\n",
       "    </tr>\n",
       "    <tr>\n",
       "      <th>1457</th>\n",
       "      <td>12</td>\n",
       "      <td>1.5</td>\n",
       "      <td>5.0</td>\n",
       "      <td>1.7</td>\n",
       "      <td>1.3</td>\n",
       "    </tr>\n",
       "    <tr>\n",
       "      <th>1458</th>\n",
       "      <td>12</td>\n",
       "      <td>0.0</td>\n",
       "      <td>7.2</td>\n",
       "      <td>0.6</td>\n",
       "      <td>2.6</td>\n",
       "    </tr>\n",
       "    <tr>\n",
       "      <th>1459</th>\n",
       "      <td>12</td>\n",
       "      <td>0.0</td>\n",
       "      <td>5.6</td>\n",
       "      <td>-1.0</td>\n",
       "      <td>3.4</td>\n",
       "    </tr>\n",
       "    <tr>\n",
       "      <th>1460</th>\n",
       "      <td>12</td>\n",
       "      <td>0.0</td>\n",
       "      <td>5.6</td>\n",
       "      <td>-2.1</td>\n",
       "      <td>3.5</td>\n",
       "    </tr>\n",
       "  </tbody>\n",
       "</table>\n",
       "<p>1461 rows × 5 columns</p>\n",
       "</div>"
      ],
      "text/plain": [
       "      month  precipitation  temp_max  temp_min  wind\n",
       "0         1            0.0      12.8       5.0   4.7\n",
       "1         1           10.9      10.6       2.8   4.5\n",
       "2         1            0.8      11.7       7.2   2.3\n",
       "3         1           20.3      12.2       5.6   4.7\n",
       "4         1            1.3       8.9       2.8   6.1\n",
       "...     ...            ...       ...       ...   ...\n",
       "1456     12            8.6       4.4       1.7   2.9\n",
       "1457     12            1.5       5.0       1.7   1.3\n",
       "1458     12            0.0       7.2       0.6   2.6\n",
       "1459     12            0.0       5.6      -1.0   3.4\n",
       "1460     12            0.0       5.6      -2.1   3.5\n",
       "\n",
       "[1461 rows x 5 columns]"
      ]
     },
     "execution_count": 178,
     "metadata": {},
     "output_type": "execute_result"
    }
   ],
   "source": [
    "X = df.loc[:, :\"wind\"]\n",
    "X"
   ]
  },
  {
   "cell_type": "code",
   "execution_count": 179,
   "metadata": {},
   "outputs": [
    {
     "data": {
      "text/plain": [
       "0       drizzle\n",
       "1          rain\n",
       "2          rain\n",
       "3          rain\n",
       "4          rain\n",
       "         ...   \n",
       "1456       rain\n",
       "1457       rain\n",
       "1458        fog\n",
       "1459        sun\n",
       "1460        sun\n",
       "Name: weather, Length: 1461, dtype: object"
      ]
     },
     "execution_count": 179,
     "metadata": {},
     "output_type": "execute_result"
    }
   ],
   "source": [
    "Y = df.loc[:, \"weather\"]\n",
    "Y"
   ]
  },
  {
   "cell_type": "markdown",
   "metadata": {},
   "source": [
    "## Verificar se existem classes majoritárias e minoritárias"
   ]
  },
  {
   "cell_type": "code",
   "execution_count": 180,
   "metadata": {},
   "outputs": [
    {
     "name": "stderr",
     "output_type": "stream",
     "text": [
      "/Users/luiz/Code/ps4-ai/.venv/lib/python3.11/site-packages/seaborn/_oldcore.py:1498: FutureWarning: is_categorical_dtype is deprecated and will be removed in a future version. Use isinstance(dtype, CategoricalDtype) instead\n",
      "  if pd.api.types.is_categorical_dtype(vector):\n",
      "/Users/luiz/Code/ps4-ai/.venv/lib/python3.11/site-packages/seaborn/_oldcore.py:1498: FutureWarning: is_categorical_dtype is deprecated and will be removed in a future version. Use isinstance(dtype, CategoricalDtype) instead\n",
      "  if pd.api.types.is_categorical_dtype(vector):\n",
      "/Users/luiz/Code/ps4-ai/.venv/lib/python3.11/site-packages/seaborn/_oldcore.py:1498: FutureWarning: is_categorical_dtype is deprecated and will be removed in a future version. Use isinstance(dtype, CategoricalDtype) instead\n",
      "  if pd.api.types.is_categorical_dtype(vector):\n"
     ]
    },
    {
     "data": {
      "text/plain": [
       "<Axes: xlabel='weather', ylabel='count'>"
      ]
     },
     "execution_count": 180,
     "metadata": {},
     "output_type": "execute_result"
    },
    {
     "data": {
      "image/png": "[encoded data removed]",
      "text/plain": [
       "<Figure size 640x480 with 1 Axes>"
      ]
     },
     "metadata": {},
     "output_type": "display_data"
    }
   ],
   "source": [
    "x = np.unique(df['weather'], return_counts=True)\n",
    "sns.countplot(x = df['weather'])"
   ]
  },
  {
   "cell_type": "code",
   "execution_count": 181,
   "metadata": {},
   "outputs": [],
   "source": [
    "from sklearn.model_selection import train_test_split\n",
    "\n",
    "X_train, X_test, Y_train, Y_test = train_test_split(\n",
    "    X,\n",
    "    Y,\n",
    "    test_size=0.2,\n",
    "    random_state=RANDOM_STATE,\n",
    ")"
   ]
  },
  {
   "cell_type": "code",
   "execution_count": 206,
   "metadata": {},
   "outputs": [
    {
     "data": {
      "text/html": [
       "<style>#sk-container-id-21 {color: black;}#sk-container-id-21 pre{padding: 0;}#sk-container-id-21 div.sk-toggleable {background-color: white;}#sk-container-id-21 label.sk-toggleable__label {cursor: pointer;display: block;width: 100%;margin-bottom: 0;padding: 0.3em;box-sizing: border-box;text-align: center;}#sk-container-id-21 label.sk-toggleable__label-arrow:before {content: \"▸\";float: left;margin-right: 0.25em;color: #696969;}#sk-container-id-21 label.sk-toggleable__label-arrow:hover:before {color: black;}#sk-container-id-21 div.sk-estimator:hover label.sk-toggleable__label-arrow:before {color: black;}#sk-container-id-21 div.sk-toggleable__content {max-height: 0;max-width: 0;overflow: hidden;text-align: left;background-color: #f0f8ff;}#sk-container-id-21 div.sk-toggleable__content pre {margin: 0.2em;color: black;border-radius: 0.25em;background-color: #f0f8ff;}#sk-container-id-21 input.sk-toggleable__control:checked~div.sk-toggleable__content {max-height: 200px;max-width: 100%;overflow: auto;}#sk-container-id-21 input.sk-toggleable__control:checked~label.sk-toggleable__label-arrow:before {content: \"▾\";}#sk-container-id-21 div.sk-estimator input.sk-toggleable__control:checked~label.sk-toggleable__label {background-color: #d4ebff;}#sk-container-id-21 div.sk-label input.sk-toggleable__control:checked~label.sk-toggleable__label {background-color: #d4ebff;}#sk-container-id-21 input.sk-hidden--visually {border: 0;clip: rect(1px 1px 1px 1px);clip: rect(1px, 1px, 1px, 1px);height: 1px;margin: -1px;overflow: hidden;padding: 0;position: absolute;width: 1px;}#sk-container-id-21 div.sk-estimator {font-family: monospace;background-color: #f0f8ff;border: 1px dotted black;border-radius: 0.25em;box-sizing: border-box;margin-bottom: 0.5em;}#sk-container-id-21 div.sk-estimator:hover {background-color: #d4ebff;}#sk-container-id-21 div.sk-parallel-item::after {content: \"\";width: 100%;border-bottom: 1px solid gray;flex-grow: 1;}#sk-container-id-21 div.sk-label:hover label.sk-toggleable__label {background-color: #d4ebff;}#sk-container-id-21 div.sk-serial::before {content: \"\";position: absolute;border-left: 1px solid gray;box-sizing: border-box;top: 0;bottom: 0;left: 50%;z-index: 0;}#sk-container-id-21 div.sk-serial {display: flex;flex-direction: column;align-items: center;background-color: white;padding-right: 0.2em;padding-left: 0.2em;position: relative;}#sk-container-id-21 div.sk-item {position: relative;z-index: 1;}#sk-container-id-21 div.sk-parallel {display: flex;align-items: stretch;justify-content: center;background-color: white;position: relative;}#sk-container-id-21 div.sk-item::before, #sk-container-id-21 div.sk-parallel-item::before {content: \"\";position: absolute;border-left: 1px solid gray;box-sizing: border-box;top: 0;bottom: 0;left: 50%;z-index: -1;}#sk-container-id-21 div.sk-parallel-item {display: flex;flex-direction: column;z-index: 1;position: relative;background-color: white;}#sk-container-id-21 div.sk-parallel-item:first-child::after {align-self: flex-end;width: 50%;}#sk-container-id-21 div.sk-parallel-item:last-child::after {align-self: flex-start;width: 50%;}#sk-container-id-21 div.sk-parallel-item:only-child::after {width: 0;}#sk-container-id-21 div.sk-dashed-wrapped {border: 1px dashed gray;margin: 0 0.4em 0.5em 0.4em;box-sizing: border-box;padding-bottom: 0.4em;background-color: white;}#sk-container-id-21 div.sk-label label {font-family: monospace;font-weight: bold;display: inline-block;line-height: 1.2em;}#sk-container-id-21 div.sk-label-container {text-align: center;}#sk-container-id-21 div.sk-container {/* jupyter's `normalize.less` sets `[hidden] { display: none; }` but bootstrap.min.css set `[hidden] { display: none !important; }` so we also need the `!important` here to be able to override the default hidden behavior on the sphinx rendered scikit-learn.org. See: https://github.com/scikit-learn/scikit-learn/issues/21755 */display: inline-block !important;position: relative;}#sk-container-id-21 div.sk-text-repr-fallback {display: none;}</style><div id=\"sk-container-id-21\" class=\"sk-top-container\"><div class=\"sk-text-repr-fallback\"><pre>DecisionTreeClassifier(max_depth=6, random_state=27)</pre><b>In a Jupyter environment, please rerun this cell to show the HTML representation or trust the notebook. <br />On GitHub, the HTML representation is unable to render, please try loading this page with nbviewer.org.</b></div><div class=\"sk-container\" hidden><div class=\"sk-item\"><div class=\"sk-estimator sk-toggleable\"><input class=\"sk-toggleable__control sk-hidden--visually\" id=\"sk-estimator-id-21\" type=\"checkbox\" checked><label for=\"sk-estimator-id-21\" class=\"sk-toggleable__label sk-toggleable__label-arrow\">DecisionTreeClassifier</label><div class=\"sk-toggleable__content\"><pre>DecisionTreeClassifier(max_depth=6, random_state=27)</pre></div></div></div></div></div>"
      ],
      "text/plain": [
       "DecisionTreeClassifier(max_depth=6, random_state=27)"
      ]
     },
     "execution_count": 206,
     "metadata": {},
     "output_type": "execute_result"
    }
   ],
   "source": [
    "from sklearn.tree import DecisionTreeClassifier\n",
    "\n",
    "model = DecisionTreeClassifier(\n",
    "    criterion=\"gini\",\n",
    "    max_depth=6,\n",
    "    random_state=RANDOM_STATE\n",
    ")\n",
    "model.fit(X_train.values, Y_train.values)"
   ]
  },
  {
   "cell_type": "code",
   "execution_count": 207,
   "metadata": {},
   "outputs": [
    {
     "data": {
      "text/plain": [
       "array(['rain', 'sun', 'sun', 'sun', 'sun', 'rain', 'sun', 'rain', 'sun',\n",
       "       'rain'], dtype=object)"
      ]
     },
     "execution_count": 207,
     "metadata": {},
     "output_type": "execute_result"
    }
   ],
   "source": [
    "test_predictions = model.predict(X_test.values)\n",
    "test_predictions[:10]"
   ]
  },
  {
   "cell_type": "code",
   "execution_count": 208,
   "metadata": {},
   "outputs": [
    {
     "data": {
      "text/plain": [
       "0.8020477815699659"
      ]
     },
     "execution_count": 208,
     "metadata": {},
     "output_type": "execute_result"
    }
   ],
   "source": [
    "from sklearn.metrics import accuracy_score\n",
    "\n",
    "accuracy_score(Y_test, test_predictions)"
   ]
  },
  {
   "cell_type": "code",
   "execution_count": 209,
   "metadata": {},
   "outputs": [
    {
     "data": {
      "text/plain": [
       "0.8020477815699659"
      ]
     },
     "execution_count": 209,
     "metadata": {},
     "output_type": "execute_result"
    },
    {
     "data": {
      "image/png": "[encoded data removed]",
      "text/plain": [
       "<Figure size 800x550 with 1 Axes>"
      ]
     },
     "metadata": {},
     "output_type": "display_data"
    }
   ],
   "source": [
    "from yellowbrick.classifier import ConfusionMatrix\n",
    "\n",
    "cm = ConfusionMatrix(model)\n",
    "cm.fit(X_train.values, Y_train)\n",
    "cm.score(X_test.values, Y_test)"
   ]
  },
  {
   "cell_type": "code",
   "execution_count": 210,
   "metadata": {},
   "outputs": [
    {
     "name": "stdout",
     "output_type": "stream",
     "text": [
      "              precision    recall  f1-score   support\n",
      "\n",
      "     drizzle       0.00      0.00      0.00        13\n",
      "         fog       0.20      0.03      0.06        29\n",
      "        rain       0.97      0.93      0.95       138\n",
      "        snow       0.67      0.33      0.44         6\n",
      "         sun       0.68      0.96      0.80       107\n",
      "\n",
      "    accuracy                           0.80       293\n",
      "   macro avg       0.50      0.45      0.45       293\n",
      "weighted avg       0.74      0.80      0.75       293\n",
      "\n"
     ]
    },
    {
     "name": "stderr",
     "output_type": "stream",
     "text": [
      "/Users/luiz/Code/ps4-ai/.venv/lib/python3.11/site-packages/sklearn/metrics/_classification.py:1469: UndefinedMetricWarning: Precision and F-score are ill-defined and being set to 0.0 in labels with no predicted samples. Use `zero_division` parameter to control this behavior.\n",
      "  _warn_prf(average, modifier, msg_start, len(result))\n",
      "/Users/luiz/Code/ps4-ai/.venv/lib/python3.11/site-packages/sklearn/metrics/_classification.py:1469: UndefinedMetricWarning: Precision and F-score are ill-defined and being set to 0.0 in labels with no predicted samples. Use `zero_division` parameter to control this behavior.\n",
      "  _warn_prf(average, modifier, msg_start, len(result))\n",
      "/Users/luiz/Code/ps4-ai/.venv/lib/python3.11/site-packages/sklearn/metrics/_classification.py:1469: UndefinedMetricWarning: Precision and F-score are ill-defined and being set to 0.0 in labels with no predicted samples. Use `zero_division` parameter to control this behavior.\n",
      "  _warn_prf(average, modifier, msg_start, len(result))\n"
     ]
    }
   ],
   "source": [
    "from sklearn.metrics import classification_report\n",
    "\n",
    "print(classification_report(Y_test, test_predictions))"
   ]
  },
  {
   "cell_type": "code",
   "execution_count": 211,
   "metadata": {},
   "outputs": [
    {
     "data": {
      "text/plain": [
       "[Text(0.5508928571428572, 0.9285714285714286, 'x[1] <= 0.15\\ngini = 0.601\\nsamples = 1168\\nvalue = [40, 72, 503, 20, 533]\\nclass = sun'),\n",
       " Text(0.2910714285714286, 0.7857142857142857, 'x[0] <= 1.5\\ngini = 0.367\\nsamples = 679\\nvalue = [40, 72, 34, 0, 533]\\nclass = sun'),\n",
       " Text(0.09642857142857143, 0.6428571428571429, 'x[3] <= 0.05\\ngini = 0.649\\nsamples = 45\\nvalue = [6, 15, 3, 0, 21]\\nclass = sun'),\n",
       " Text(0.02857142857142857, 0.5, 'x[4] <= 1.15\\ngini = 0.48\\nsamples = 15\\nvalue = [6, 0, 0, 0, 9]\\nclass = sun'),\n",
       " Text(0.014285714285714285, 0.35714285714285715, 'gini = 0.0\\nsamples = 3\\nvalue = [3, 0, 0, 0, 0]\\nclass = drizzle'),\n",
       " Text(0.04285714285714286, 0.35714285714285715, 'x[2] <= 1.95\\ngini = 0.375\\nsamples = 12\\nvalue = [3, 0, 0, 0, 9]\\nclass = sun'),\n",
       " Text(0.02857142857142857, 0.21428571428571427, 'gini = 0.0\\nsamples = 1\\nvalue = [1, 0, 0, 0, 0]\\nclass = drizzle'),\n",
       " Text(0.05714285714285714, 0.21428571428571427, 'x[3] <= -2.5\\ngini = 0.298\\nsamples = 11\\nvalue = [2, 0, 0, 0, 9]\\nclass = sun'),\n",
       " Text(0.04285714285714286, 0.07142857142857142, 'gini = 0.0\\nsamples = 4\\nvalue = [0, 0, 0, 0, 4]\\nclass = sun'),\n",
       " Text(0.07142857142857142, 0.07142857142857142, 'gini = 0.408\\nsamples = 7\\nvalue = [2, 0, 0, 0, 5]\\nclass = sun'),\n",
       " Text(0.16428571428571428, 0.5, 'x[4] <= 1.95\\ngini = 0.58\\nsamples = 30\\nvalue = [0, 15, 3, 0, 12]\\nclass = fog'),\n",
       " Text(0.12857142857142856, 0.35714285714285715, 'x[4] <= 1.35\\ngini = 0.32\\nsamples = 10\\nvalue = [0, 8, 0, 0, 2]\\nclass = fog'),\n",
       " Text(0.11428571428571428, 0.21428571428571427, 'x[2] <= 8.85\\ngini = 0.5\\nsamples = 4\\nvalue = [0, 2, 0, 0, 2]\\nclass = fog'),\n",
       " Text(0.1, 0.07142857142857142, 'gini = 0.0\\nsamples = 1\\nvalue = [0, 1, 0, 0, 0]\\nclass = fog'),\n",
       " Text(0.12857142857142856, 0.07142857142857142, 'gini = 0.444\\nsamples = 3\\nvalue = [0, 1, 0, 0, 2]\\nclass = sun'),\n",
       " Text(0.14285714285714285, 0.21428571428571427, 'gini = 0.0\\nsamples = 6\\nvalue = [0, 6, 0, 0, 0]\\nclass = fog'),\n",
       " Text(0.2, 0.35714285714285715, 'x[4] <= 2.55\\ngini = 0.605\\nsamples = 20\\nvalue = [0, 7, 3, 0, 10]\\nclass = sun'),\n",
       " Text(0.17142857142857143, 0.21428571428571427, 'x[2] <= 13.6\\ngini = 0.494\\nsamples = 9\\nvalue = [0, 1, 2, 0, 6]\\nclass = sun'),\n",
       " Text(0.15714285714285714, 0.07142857142857142, 'gini = 0.375\\nsamples = 8\\nvalue = [0, 0, 2, 0, 6]\\nclass = sun'),\n",
       " Text(0.18571428571428572, 0.07142857142857142, 'gini = 0.0\\nsamples = 1\\nvalue = [0, 1, 0, 0, 0]\\nclass = fog'),\n",
       " Text(0.22857142857142856, 0.21428571428571427, 'x[3] <= 3.05\\ngini = 0.562\\nsamples = 11\\nvalue = [0, 6, 1, 0, 4]\\nclass = fog'),\n",
       " Text(0.21428571428571427, 0.07142857142857142, 'gini = 0.32\\nsamples = 5\\nvalue = [0, 4, 1, 0, 0]\\nclass = fog'),\n",
       " Text(0.24285714285714285, 0.07142857142857142, 'gini = 0.444\\nsamples = 6\\nvalue = [0, 2, 0, 0, 4]\\nclass = sun'),\n",
       " Text(0.4857142857142857, 0.6428571428571429, 'x[0] <= 8.5\\ngini = 0.334\\nsamples = 634\\nvalue = [34, 57, 31, 0, 512]\\nclass = sun'),\n",
       " Text(0.37142857142857144, 0.5, 'x[0] <= 3.5\\ngini = 0.287\\nsamples = 441\\nvalue = [23, 23, 25, 0, 370]\\nclass = sun'),\n",
       " Text(0.3142857142857143, 0.35714285714285715, 'x[3] <= 3.6\\ngini = 0.464\\nsamples = 73\\nvalue = [6, 6, 9, 0, 52]\\nclass = sun'),\n",
       " Text(0.2857142857142857, 0.21428571428571427, 'x[4] <= 2.05\\ngini = 0.281\\nsamples = 38\\nvalue = [3, 1, 2, 0, 32]\\nclass = sun'),\n",
       " Text(0.2714285714285714, 0.07142857142857142, 'gini = 0.54\\nsamples = 10\\nvalue = [3, 1, 0, 0, 6]\\nclass = sun'),\n",
       " Text(0.3, 0.07142857142857142, 'gini = 0.133\\nsamples = 28\\nvalue = [0, 0, 2, 0, 26]\\nclass = sun'),\n",
       " Text(0.34285714285714286, 0.21428571428571427, 'x[2] <= 10.85\\ngini = 0.606\\nsamples = 35\\nvalue = [3, 5, 7, 0, 20]\\nclass = sun'),\n",
       " Text(0.32857142857142857, 0.07142857142857142, 'gini = 0.32\\nsamples = 5\\nvalue = [0, 0, 4, 0, 1]\\nclass = rain'),\n",
       " Text(0.35714285714285715, 0.07142857142857142, 'gini = 0.551\\nsamples = 30\\nvalue = [3, 5, 3, 0, 19]\\nclass = sun'),\n",
       " Text(0.42857142857142855, 0.35714285714285715, 'x[4] <= 2.25\\ngini = 0.247\\nsamples = 368\\nvalue = [17, 17, 16, 0, 318]\\nclass = sun'),\n",
       " Text(0.4, 0.21428571428571427, 'x[4] <= 2.15\\ngini = 0.352\\nsamples = 73\\nvalue = [7, 6, 2, 0, 58]\\nclass = sun'),\n",
       " Text(0.38571428571428573, 0.07142857142857142, 'gini = 0.226\\nsamples = 56\\nvalue = [5, 1, 1, 0, 49]\\nclass = sun'),\n",
       " Text(0.4142857142857143, 0.07142857142857142, 'gini = 0.616\\nsamples = 17\\nvalue = [2, 5, 1, 0, 9]\\nclass = sun'),\n",
       " Text(0.45714285714285713, 0.21428571428571427, 'x[2] <= 19.15\\ngini = 0.218\\nsamples = 295\\nvalue = [10, 11, 14, 0, 260]\\nclass = sun'),\n",
       " Text(0.44285714285714284, 0.07142857142857142, 'gini = 0.325\\nsamples = 74\\nvalue = [3, 2, 9, 0, 60]\\nclass = sun'),\n",
       " Text(0.4714285714285714, 0.07142857142857142, 'gini = 0.178\\nsamples = 221\\nvalue = [7, 9, 5, 0, 200]\\nclass = sun'),\n",
       " Text(0.6, 0.5, 'x[4] <= 3.65\\ngini = 0.423\\nsamples = 193\\nvalue = [11, 34, 6, 0, 142]\\nclass = sun'),\n",
       " Text(0.5428571428571428, 0.35714285714285715, 'x[3] <= 0.3\\ngini = 0.475\\nsamples = 147\\nvalue = [11, 28, 6, 0, 102]\\nclass = sun'),\n",
       " Text(0.5142857142857142, 0.21428571428571427, 'x[2] <= 3.85\\ngini = 0.185\\nsamples = 20\\nvalue = [1, 1, 0, 0, 18]\\nclass = sun'),\n",
       " Text(0.5, 0.07142857142857142, 'gini = 0.449\\nsamples = 7\\nvalue = [1, 1, 0, 0, 5]\\nclass = sun'),\n",
       " Text(0.5285714285714286, 0.07142857142857142, 'gini = 0.0\\nsamples = 13\\nvalue = [0, 0, 0, 0, 13]\\nclass = sun'),\n",
       " Text(0.5714285714285714, 0.21428571428571427, 'x[4] <= 3.35\\ngini = 0.509\\nsamples = 127\\nvalue = [10, 27, 6, 0, 84]\\nclass = sun'),\n",
       " Text(0.5571428571428572, 0.07142857142857142, 'gini = 0.478\\nsamples = 119\\nvalue = [9, 24, 4, 0, 82]\\nclass = sun'),\n",
       " Text(0.5857142857142857, 0.07142857142857142, 'gini = 0.719\\nsamples = 8\\nvalue = [1, 3, 2, 0, 2]\\nclass = fog'),\n",
       " Text(0.6571428571428571, 0.35714285714285715, 'x[2] <= 6.4\\ngini = 0.227\\nsamples = 46\\nvalue = [0, 6, 0, 0, 40]\\nclass = sun'),\n",
       " Text(0.6285714285714286, 0.21428571428571427, 'x[2] <= 5.3\\ngini = 0.5\\nsamples = 4\\nvalue = [0, 2, 0, 0, 2]\\nclass = fog'),\n",
       " Text(0.6142857142857143, 0.07142857142857142, 'gini = 0.0\\nsamples = 2\\nvalue = [0, 0, 0, 0, 2]\\nclass = sun'),\n",
       " Text(0.6428571428571429, 0.07142857142857142, 'gini = 0.0\\nsamples = 2\\nvalue = [0, 2, 0, 0, 0]\\nclass = fog'),\n",
       " Text(0.6857142857142857, 0.21428571428571427, 'x[4] <= 5.05\\ngini = 0.172\\nsamples = 42\\nvalue = [0, 4, 0, 0, 38]\\nclass = sun'),\n",
       " Text(0.6714285714285714, 0.07142857142857142, 'gini = 0.245\\nsamples = 28\\nvalue = [0, 4, 0, 0, 24]\\nclass = sun'),\n",
       " Text(0.7, 0.07142857142857142, 'gini = 0.0\\nsamples = 14\\nvalue = [0, 0, 0, 0, 14]\\nclass = sun'),\n",
       " Text(0.8107142857142857, 0.7857142857142857, 'x[3] <= 0.85\\ngini = 0.078\\nsamples = 489\\nvalue = [0, 0, 469, 20, 0]\\nclass = rain'),\n",
       " Text(0.7571428571428571, 0.6428571428571429, 'x[4] <= 3.95\\ngini = 0.494\\nsamples = 27\\nvalue = [0, 0, 12, 15, 0]\\nclass = snow'),\n",
       " Text(0.7428571428571429, 0.5, 'x[2] <= 3.6\\ngini = 0.415\\nsamples = 17\\nvalue = [0, 0, 12, 5, 0]\\nclass = rain'),\n",
       " Text(0.7285714285714285, 0.35714285714285715, 'gini = 0.0\\nsamples = 2\\nvalue = [0, 0, 0, 2, 0]\\nclass = snow'),\n",
       " Text(0.7571428571428571, 0.35714285714285715, 'x[1] <= 13.35\\ngini = 0.32\\nsamples = 15\\nvalue = [0, 0, 12, 3, 0]\\nclass = rain'),\n",
       " Text(0.7428571428571429, 0.21428571428571427, 'x[4] <= 2.65\\ngini = 0.245\\nsamples = 14\\nvalue = [0, 0, 12, 2, 0]\\nclass = rain'),\n",
       " Text(0.7285714285714285, 0.07142857142857142, 'gini = 0.0\\nsamples = 8\\nvalue = [0, 0, 8, 0, 0]\\nclass = rain'),\n",
       " Text(0.7571428571428571, 0.07142857142857142, 'gini = 0.444\\nsamples = 6\\nvalue = [0, 0, 4, 2, 0]\\nclass = rain'),\n",
       " Text(0.7714285714285715, 0.21428571428571427, 'gini = 0.0\\nsamples = 1\\nvalue = [0, 0, 0, 1, 0]\\nclass = snow'),\n",
       " Text(0.7714285714285715, 0.5, 'gini = 0.0\\nsamples = 10\\nvalue = [0, 0, 0, 10, 0]\\nclass = snow'),\n",
       " Text(0.8642857142857143, 0.6428571428571429, 'x[2] <= 5.85\\ngini = 0.021\\nsamples = 462\\nvalue = [0, 0, 457, 5, 0]\\nclass = rain'),\n",
       " Text(0.8, 0.5, 'x[3] <= 1.4\\ngini = 0.298\\nsamples = 11\\nvalue = [0, 0, 9, 2, 0]\\nclass = rain'),\n",
       " Text(0.7857142857142857, 0.35714285714285715, 'gini = 0.0\\nsamples = 1\\nvalue = [0, 0, 0, 1, 0]\\nclass = snow'),\n",
       " Text(0.8142857142857143, 0.35714285714285715, 'x[1] <= 11.05\\ngini = 0.18\\nsamples = 10\\nvalue = [0, 0, 9, 1, 0]\\nclass = rain'),\n",
       " Text(0.8, 0.21428571428571427, 'gini = 0.0\\nsamples = 8\\nvalue = [0, 0, 8, 0, 0]\\nclass = rain'),\n",
       " Text(0.8285714285714286, 0.21428571428571427, 'x[4] <= 4.25\\ngini = 0.5\\nsamples = 2\\nvalue = [0, 0, 1, 1, 0]\\nclass = rain'),\n",
       " Text(0.8142857142857143, 0.07142857142857142, 'gini = 0.0\\nsamples = 1\\nvalue = [0, 0, 0, 1, 0]\\nclass = snow'),\n",
       " Text(0.8428571428571429, 0.07142857142857142, 'gini = 0.0\\nsamples = 1\\nvalue = [0, 0, 1, 0, 0]\\nclass = rain'),\n",
       " Text(0.9285714285714286, 0.5, 'x[1] <= 22.2\\ngini = 0.013\\nsamples = 451\\nvalue = [0, 0, 448, 3, 0]\\nclass = rain'),\n",
       " Text(0.9, 0.35714285714285715, 'x[3] <= 1.95\\ngini = 0.005\\nsamples = 421\\nvalue = [0, 0, 420, 1, 0]\\nclass = rain'),\n",
       " Text(0.8857142857142857, 0.21428571428571427, 'x[1] <= 11.7\\ngini = 0.117\\nsamples = 16\\nvalue = [0, 0, 15, 1, 0]\\nclass = rain'),\n",
       " Text(0.8714285714285714, 0.07142857142857142, 'gini = 0.0\\nsamples = 14\\nvalue = [0, 0, 14, 0, 0]\\nclass = rain'),\n",
       " Text(0.9, 0.07142857142857142, 'gini = 0.5\\nsamples = 2\\nvalue = [0, 0, 1, 1, 0]\\nclass = rain'),\n",
       " Text(0.9142857142857143, 0.21428571428571427, 'gini = 0.0\\nsamples = 405\\nvalue = [0, 0, 405, 0, 0]\\nclass = rain'),\n",
       " Text(0.9571428571428572, 0.35714285714285715, 'x[1] <= 22.85\\ngini = 0.124\\nsamples = 30\\nvalue = [0, 0, 28, 2, 0]\\nclass = rain'),\n",
       " Text(0.9428571428571428, 0.21428571428571427, 'gini = 0.0\\nsamples = 1\\nvalue = [0, 0, 0, 1, 0]\\nclass = snow'),\n",
       " Text(0.9714285714285714, 0.21428571428571427, 'x[1] <= 24.65\\ngini = 0.067\\nsamples = 29\\nvalue = [0, 0, 28, 1, 0]\\nclass = rain'),\n",
       " Text(0.9571428571428572, 0.07142857142857142, 'gini = 0.444\\nsamples = 3\\nvalue = [0, 0, 2, 1, 0]\\nclass = rain'),\n",
       " Text(0.9857142857142858, 0.07142857142857142, 'gini = 0.0\\nsamples = 26\\nvalue = [0, 0, 26, 0, 0]\\nclass = rain')]"
      ]
     },
     "execution_count": 211,
     "metadata": {},
     "output_type": "execute_result"
    },
    {
     "data": {
      "image/png": "[encoded data removed]",
      "text/plain": [
       "<Figure size 800x1300 with 1 Axes>"
      ]
     },
     "metadata": {},
     "output_type": "display_data"
    }
   ],
   "source": [
    "import matplotlib.pyplot as plt\n",
    "from sklearn import tree\n",
    "\n",
    "plt.subplots(nrows=1, ncols=1, figsize=(8, 13))\n",
    "tree.plot_tree(\n",
    "    model,\n",
    "    class_names=model.classes_.tolist(),\n",
    "    filled=True,\n",
    ")"
   ]
  }
 ],
 "metadata": {
  "kernelspec": {
   "display_name": ".venv",
   "language": "python",
   "name": "python3"
  },
  "language_info": {
   "codemirror_mode": {
    "name": "ipython",
    "version": 3
   },
   "file_extension": ".py",
   "mimetype": "text/x-python",
   "name": "python",
   "nbconvert_exporter": "python",
   "pygments_lexer": "ipython3",
   "version": "3.11.3"
  },
  "orig_nbformat": 4
 },
 "nbformat": 4,
 "nbformat_minor": 2
}
